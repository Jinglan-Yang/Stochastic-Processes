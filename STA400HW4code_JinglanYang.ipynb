{
 "cells": [
  {
   "cell_type": "markdown",
   "metadata": {},
   "source": [
    "# Assignment 4\n",
    "Name: <font color=blue>____Jinglan Yang__杨景兰_______</font>,       ID: <font color=blue>________121090699_______________</font>"
   ]
  },
  {
   "cell_type": "code",
   "execution_count": 1,
   "metadata": {},
   "outputs": [],
   "source": [
    "import numpy as np\n",
    "import matplotlib.pylab as plt"
   ]
  },
  {
   "cell_type": "markdown",
   "metadata": {},
   "source": [
    "### Helpful functions\n",
    "The following functions may be helpful for your coding, but you can also choose to code it by yourself or modify it."
   ]
  },
  {
   "cell_type": "markdown",
   "metadata": {},
   "source": [
    "#### plot the two figures"
   ]
  },
  {
   "cell_type": "code",
   "execution_count": 2,
   "metadata": {},
   "outputs": [],
   "source": [
    "def plot1(numbers, lam):\n",
    "    '''For problem 5-2\n",
    "        Parameters:\n",
    "        ----------\n",
    "        numbers: a list or an array with type int\n",
    "            collections of the total number of arrivals for each round\n",
    "        lam : float\n",
    "            rate\n",
    "    '''\n",
    "    p = lambda k: np.exp(-lam)*lam**k/np.math.factorial(k)\n",
    "    x = list(range(0, np.max(numbers)+1))\n",
    "    plt.figure()\n",
    "    plt.hist(numbers, range=(0, np.max(numbers)+1), bins=np.max(numbers)+1, alpha = 0.5, rwidth=0.5, label='empirical', color='orange', density=True)\n",
    "    plt.bar(x, [p(k) for k in x], alpha = 0.5, width=0.5, label='theoretic')\n",
    "    plt.xlabel(f'the number of arrival on [0, {time}]')\n",
    "    plt.ylabel('probability')\n",
    "    plt.legend(loc='upper left')\n",
    "    plt.show()"
   ]
  },
  {
   "cell_type": "code",
   "execution_count": 3,
   "metadata": {},
   "outputs": [],
   "source": [
    "def plot2(first_arrivals, lam, bins:int):\n",
    "    '''For problem 5-3\n",
    "        Parameters:\n",
    "        ----------\n",
    "        first_arrivals: a list or an array with type float\n",
    "            collections of the first arrival time for each round\n",
    "        lam: float\n",
    "            rate\n",
    "        bins: int \n",
    "            the number of bins of the histogram\n",
    "    '''\n",
    "    bin_width = time / bins\n",
    "    G = lambda t: np.exp(-lam*t) # tail prob\n",
    "    hight = lambda left: (G(left) - G(left+bin_width)) / bin_width \n",
    "    x = np.linspace(0, time, num=bins, endpoint=False)\n",
    "    plt.figure()\n",
    "    plt.hist(first_arrivals, range=(0, time), bins=bins, alpha = 0.5, rwidth=0.5, label='empirical', color='orange', density=True)\n",
    "    plt.bar(x, [hight(k) for k in x], alpha = 0.5, width=0.5*bin_width, label='theoretic')\n",
    "    plt.legend(loc='upper right')\n",
    "    plt.xlabel('the time of the first arrival')\n",
    "    plt.ylabel('intensity')\n",
    "    plt.show()"
   ]
  },
  {
   "cell_type": "markdown",
   "metadata": {},
   "source": [
    "Note that the intensity has the relation with the frequency:\n",
    "$$\\text{intensity}\\times \\text{bin width} = \\text{frequency}$$"
   ]
  },
  {
   "cell_type": "markdown",
   "metadata": {},
   "source": [
    "If you want to sample from some distributions, you can use `np.random`. For example\n",
    "- exponential random variable with rate $\\lambda$ can be sampled by `np.random.exponential(1/lambda)` (see [docs](https://numpy.org/doc/stable/reference/random/generated/numpy.random.exponential.html))\n",
    "- poisson random variable with mean $\\lambda$ can be sampled by  `np.random.poisson(lambda)` (see [docs](https://numpy.org/doc/stable/reference/random/generated/numpy.random.poisson.html))\n",
    "- uniform random variable with range [low, high] can be sampled by  `np.random.uniform(low,high,size=n)` (see [docs](https://numpy.org/doc/stable/reference/random/generated/numpy.random.uniform.html))"
   ]
  },
  {
   "cell_type": "markdown",
   "metadata": {},
   "source": [
    "## Question 5"
   ]
  },
  {
   "cell_type": "code",
   "execution_count": 4,
   "metadata": {},
   "outputs": [],
   "source": [
    "time = 1 # we just focus on the interval [0,1] in this problem.\n",
    "np.random.seed(42) # set random seed for reproduction."
   ]
  },
  {
   "cell_type": "markdown",
   "metadata": {},
   "source": [
    "### 5-1\n",
    "Write two functions **Poisson1** and **Poisson2** to simulate the sequence of arrival times of events on $[0,1]$ for a Poisson process with rate $\\lambda$, where $\\lambda$ is the input to your functions. In **Poisson1**, the simulation is based on generating i.i.d. inter-arrival times. In **Poisson2**, you first generate the total number of arrivals and then the conditional distribution of arrival times."
   ]
  },
  {
   "cell_type": "code",
   "execution_count": 5,
   "metadata": {},
   "outputs": [],
   "source": [
    "def Poisson1(lam):\n",
    "    '''\n",
    "        Parameters:\n",
    "        ----------\n",
    "        lam : float\n",
    "            rate\n",
    "\n",
    "        Returns\n",
    "        -------\n",
    "        A list or an array\n",
    "            arrival times on interval [0,time].\n",
    "    '''\n",
    "    n = 0\n",
    "    list_of_T =[]\n",
    "    inter_arrival_t = np.random.exponential(1/lam)\n",
    "    sum_time = inter_arrival_t\n",
    "    \n",
    "    while sum_time < time:\n",
    "        list_of_T.append(inter_arrival_t)\n",
    "        n += 1\n",
    "        inter_arrival_t = np.random.exponential(1/lam)\n",
    "        sum_time += inter_arrival_t\n",
    "        \n",
    "    return list_of_T"
   ]
  },
  {
   "cell_type": "code",
   "execution_count": 6,
   "metadata": {},
   "outputs": [],
   "source": [
    "def Poisson2(lam):\n",
    "    '''\n",
    "        Parameters:\n",
    "        ----------\n",
    "        lam : float\n",
    "            rate\n",
    "\n",
    "        Returns\n",
    "        -------\n",
    "        A list or an array\n",
    "            arrival times on interval [0,time].\n",
    "    '''\n",
    "    n_arrivals = np.random.poisson(lam=lam)\n",
    "    if n_arrivals == 0:\n",
    "        return [1]  \n",
    "    arrival_times = np.random.uniform(0, 1, n_arrivals)\n",
    "    arrival_times.sort()\n",
    "    \n",
    "    return arrival_times"
   ]
  },
  {
   "cell_type": "markdown",
   "metadata": {},
   "source": [
    "### 5-2\n",
    "Set $\\lambda =10$. Run **Poisson1** for 10000 rounds, record the total number of arrivals in each round. Plot the empirical distribution of the simulated number of arrivals, and validate your codes by comparing the empirical distribution with the theoretical distribution."
   ]
  },
  {
   "cell_type": "code",
   "execution_count": 7,
   "metadata": {},
   "outputs": [],
   "source": [
    "lam = 10\n",
    "N = 10000"
   ]
  },
  {
   "cell_type": "code",
   "execution_count": 8,
   "metadata": {},
   "outputs": [
    {
     "data": {
      "image/png": "[encoded data removed]",
      "text/plain": [
       "<Figure size 432x288 with 1 Axes>"
      ]
     },
     "metadata": {
      "needs_background": "light"
     },
     "output_type": "display_data"
    }
   ],
   "source": [
    "numbers=[]\n",
    "for i in range(N):\n",
    "    numbers.append(len(Poisson1(lam)))\n",
    "plot1(numbers,lam)"
   ]
  },
  {
   "cell_type": "markdown",
   "metadata": {},
   "source": [
    "### 5-3\n",
    "Run **Poisson2** for 10000 rounds, record the first arrival time. (What if there is no arrival on $[0,1]$?) Plot the empirical distribution of the first arrival time, and validate your codes by comparing the empirical distribution with the theoretical distribution."
   ]
  },
  {
   "cell_type": "code",
   "execution_count": 9,
   "metadata": {},
   "outputs": [],
   "source": [
    "lam = 10\n",
    "N = 10000"
   ]
  },
  {
   "cell_type": "code",
   "execution_count": 10,
   "metadata": {},
   "outputs": [
    {
     "data": {
      "image/png": "[encoded data removed]",
      "text/plain": [
       "<Figure size 432x288 with 1 Axes>"
      ]
     },
     "metadata": {
      "needs_background": "light"
     },
     "output_type": "display_data"
    }
   ],
   "source": [
    "first_arrivals=[]\n",
    "for i in range(N):\n",
    "    first_arrivals.append(Poisson2(lam)[0])\n",
    "plot2(first_arrivals, lam, bins=50)"
   ]
  },
  {
   "cell_type": "code",
   "execution_count": null,
   "metadata": {},
   "outputs": [],
   "source": []
  }
 ],
 "metadata": {
  "interpreter": {
   "hash": "f4d23cfb6b3cf56e30a74fda9675cd431f1b30cbe255b287129d948eeafcc692"
  },
  "kernelspec": {
   "display_name": "Python 3",
   "language": "python",
   "name": "python3"
  },
  "language_info": {
   "codemirror_mode": {
    "name": "ipython",
    "version": 3
   },
   "file_extension": ".py",
   "mimetype": "text/x-python",
   "name": "python",
   "nbconvert_exporter": "python",
   "pygments_lexer": "ipython3",
   "version": "3.8.2"
  }
 },
 "nbformat": 4,
 "nbformat_minor": 2
}
